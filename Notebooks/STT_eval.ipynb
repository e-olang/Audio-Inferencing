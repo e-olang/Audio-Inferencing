{
 "cells": [
  {
   "cell_type": "markdown",
   "metadata": {},
   "source": [
    "- This is an experimental eval strat with need for human (me) vaidation. The idead is to have models do TTS then compare this with the actual text of an uadio file\n",
    "- Afterwords, the actual and TTX text are compared using cosine similarity and then the an average is obtained (currently testing for 100 audio samples)\n",
    "- The model with the highets is best. \n",
    "- PS this is just an idead for the Swahili TTS. Exisitng eval methods for common langs ('English, etc'), are already great.\n",
    "\n",
    "----\n"
   ]
  },
  {
   "cell_type": "markdown",
   "metadata": {},
   "source": [
    "### Data Prep:\n",
    "\n",
    "- Data used: mozilla-foundation/common_voice_11_0\n",
    "- [Source](https://huggingface.co/datasets/mozilla-foundation/common_voice_11_0/viewer/sw)"
   ]
  },
  {
   "cell_type": "code",
   "execution_count": 1,
   "metadata": {},
   "outputs": [],
   "source": [
    "from datasets import load_dataset"
   ]
  },
  {
   "cell_type": "code",
   "execution_count": 2,
   "metadata": {},
   "outputs": [],
   "source": [
    "# all 66 books\n",
    "#dataset = load_dataset(\"bookbot/OpenBible_Swahili\", trust_remote_code=True)\n",
    "# all 66 books, clean subset\n",
    "#dataset = load_dataset(\"bookbot/OpenBible_Swahili\", \"clean\", trust_remote_code=True)\n",
    "# only Genesis\n",
    "#dataset = load_dataset(\"bookbot/OpenBible_Swahili\", \"GEN\", trust_remote_code=True)\n",
    "# only Genesis, clean subset\n",
    "#dataset = load_dataset(\"bookbot/OpenBible_Swahili\", \"GEN_clean\", trust_remote_code=True)\n"
   ]
  },
  {
   "cell_type": "code",
   "execution_count": 4,
   "metadata": {},
   "outputs": [],
   "source": [
    "ds = load_dataset(\"mozilla-foundation/common_voice_11_0\", \"sw\", split=\"test\",trust_remote_code=True)"
   ]
  },
  {
   "cell_type": "code",
   "execution_count": 7,
   "metadata": {},
   "outputs": [
    {
     "data": {
      "text/plain": [
       "Dataset({\n",
       "    features: ['client_id', 'path', 'audio', 'sentence', 'up_votes', 'down_votes', 'age', 'gender', 'accent', 'locale', 'segment'],\n",
       "    num_rows: 10238\n",
       "})"
      ]
     },
     "execution_count": 7,
     "metadata": {},
     "output_type": "execute_result"
    }
   ],
   "source": [
    "ds"
   ]
  },
  {
   "cell_type": "markdown",
   "metadata": {},
   "source": [
    "----"
   ]
  },
  {
   "cell_type": "code",
   "execution_count": 15,
   "metadata": {},
   "outputs": [],
   "source": [
    "import pandas as pd"
   ]
  },
  {
   "cell_type": "code",
   "execution_count": 16,
   "metadata": {},
   "outputs": [
    {
     "data": {
      "text/html": [
       "<div>\n",
       "<style scoped>\n",
       "    .dataframe tbody tr th:only-of-type {\n",
       "        vertical-align: middle;\n",
       "    }\n",
       "\n",
       "    .dataframe tbody tr th {\n",
       "        vertical-align: top;\n",
       "    }\n",
       "\n",
       "    .dataframe thead th {\n",
       "        text-align: right;\n",
       "    }\n",
       "</style>\n",
       "<table border=\"1\" class=\"dataframe\">\n",
       "  <thead>\n",
       "    <tr style=\"text-align: right;\">\n",
       "      <th></th>\n",
       "      <th>client_id</th>\n",
       "      <th>path</th>\n",
       "      <th>audio</th>\n",
       "      <th>sentence</th>\n",
       "      <th>up_votes</th>\n",
       "      <th>down_votes</th>\n",
       "      <th>age</th>\n",
       "      <th>gender</th>\n",
       "      <th>accent</th>\n",
       "      <th>locale</th>\n",
       "      <th>segment</th>\n",
       "    </tr>\n",
       "  </thead>\n",
       "  <tbody>\n",
       "    <tr>\n",
       "      <th>0</th>\n",
       "      <td>0133d8ddf5c1a3c678fde017e0b07d2835bfd707d5b3ec...</td>\n",
       "      <td>C:\\Users\\Ara\\.cache\\huggingface\\datasets\\downl...</td>\n",
       "      <td>{'path': 'C:\\Users\\Ara\\.cache\\huggingface\\data...</td>\n",
       "      <td>wachambuzi wa soka wanamtaja Messi kama nyota ...</td>\n",
       "      <td>2</td>\n",
       "      <td>0</td>\n",
       "      <td>twenties</td>\n",
       "      <td>female</td>\n",
       "      <td></td>\n",
       "      <td>sw</td>\n",
       "      <td></td>\n",
       "    </tr>\n",
       "    <tr>\n",
       "      <th>1</th>\n",
       "      <td>01c95772efd3fbe4a1122206c7474c77ed6591c8c9fb00...</td>\n",
       "      <td>C:\\Users\\Ara\\.cache\\huggingface\\datasets\\downl...</td>\n",
       "      <td>{'path': 'C:\\Users\\Ara\\.cache\\huggingface\\data...</td>\n",
       "      <td>romario aliingia kwenye orodha ya wachezaji wa...</td>\n",
       "      <td>2</td>\n",
       "      <td>1</td>\n",
       "      <td></td>\n",
       "      <td></td>\n",
       "      <td></td>\n",
       "      <td>sw</td>\n",
       "      <td></td>\n",
       "    </tr>\n",
       "    <tr>\n",
       "      <th>2</th>\n",
       "      <td>023711185d4404ff398c2697f2e72868d1ecf69a92b581...</td>\n",
       "      <td>C:\\Users\\Ara\\.cache\\huggingface\\datasets\\downl...</td>\n",
       "      <td>{'path': 'C:\\Users\\Ara\\.cache\\huggingface\\data...</td>\n",
       "      <td>Sote twesangaa twelipomuona mwalimu Ali apika</td>\n",
       "      <td>2</td>\n",
       "      <td>1</td>\n",
       "      <td>twenties</td>\n",
       "      <td>male</td>\n",
       "      <td></td>\n",
       "      <td>sw</td>\n",
       "      <td></td>\n",
       "    </tr>\n",
       "    <tr>\n",
       "      <th>3</th>\n",
       "      <td>0244639ffd7ec755a01b21ea204735ca3c44443e9cf46c...</td>\n",
       "      <td>C:\\Users\\Ara\\.cache\\huggingface\\datasets\\downl...</td>\n",
       "      <td>{'path': 'C:\\Users\\Ara\\.cache\\huggingface\\data...</td>\n",
       "      <td>Inajulikana kama shina la Warangi.</td>\n",
       "      <td>2</td>\n",
       "      <td>0</td>\n",
       "      <td></td>\n",
       "      <td></td>\n",
       "      <td></td>\n",
       "      <td>sw</td>\n",
       "      <td></td>\n",
       "    </tr>\n",
       "    <tr>\n",
       "      <th>4</th>\n",
       "      <td>260a28cb0a4ad26c1e5c43305877ed565bdac47119963e...</td>\n",
       "      <td>C:\\Users\\Ara\\.cache\\huggingface\\datasets\\downl...</td>\n",
       "      <td>{'path': 'C:\\Users\\Ara\\.cache\\huggingface\\data...</td>\n",
       "      <td>Mwidhi aliyejepa simu amekatiwa kifungo cha mw...</td>\n",
       "      <td>2</td>\n",
       "      <td>1</td>\n",
       "      <td></td>\n",
       "      <td></td>\n",
       "      <td></td>\n",
       "      <td>sw</td>\n",
       "      <td></td>\n",
       "    </tr>\n",
       "  </tbody>\n",
       "</table>\n",
       "</div>"
      ],
      "text/plain": [
       "                                           client_id  \\\n",
       "0  0133d8ddf5c1a3c678fde017e0b07d2835bfd707d5b3ec...   \n",
       "1  01c95772efd3fbe4a1122206c7474c77ed6591c8c9fb00...   \n",
       "2  023711185d4404ff398c2697f2e72868d1ecf69a92b581...   \n",
       "3  0244639ffd7ec755a01b21ea204735ca3c44443e9cf46c...   \n",
       "4  260a28cb0a4ad26c1e5c43305877ed565bdac47119963e...   \n",
       "\n",
       "                                                path  \\\n",
       "0  C:\\Users\\Ara\\.cache\\huggingface\\datasets\\downl...   \n",
       "1  C:\\Users\\Ara\\.cache\\huggingface\\datasets\\downl...   \n",
       "2  C:\\Users\\Ara\\.cache\\huggingface\\datasets\\downl...   \n",
       "3  C:\\Users\\Ara\\.cache\\huggingface\\datasets\\downl...   \n",
       "4  C:\\Users\\Ara\\.cache\\huggingface\\datasets\\downl...   \n",
       "\n",
       "                                               audio  \\\n",
       "0  {'path': 'C:\\Users\\Ara\\.cache\\huggingface\\data...   \n",
       "1  {'path': 'C:\\Users\\Ara\\.cache\\huggingface\\data...   \n",
       "2  {'path': 'C:\\Users\\Ara\\.cache\\huggingface\\data...   \n",
       "3  {'path': 'C:\\Users\\Ara\\.cache\\huggingface\\data...   \n",
       "4  {'path': 'C:\\Users\\Ara\\.cache\\huggingface\\data...   \n",
       "\n",
       "                                            sentence  up_votes  down_votes  \\\n",
       "0  wachambuzi wa soka wanamtaja Messi kama nyota ...         2           0   \n",
       "1  romario aliingia kwenye orodha ya wachezaji wa...         2           1   \n",
       "2      Sote twesangaa twelipomuona mwalimu Ali apika         2           1   \n",
       "3                 Inajulikana kama shina la Warangi.         2           0   \n",
       "4  Mwidhi aliyejepa simu amekatiwa kifungo cha mw...         2           1   \n",
       "\n",
       "        age  gender accent locale segment  \n",
       "0  twenties  female            sw          \n",
       "1                              sw          \n",
       "2  twenties    male            sw          \n",
       "3                              sw          \n",
       "4                              sw          "
      ]
     },
     "execution_count": 16,
     "metadata": {},
     "output_type": "execute_result"
    }
   ],
   "source": [
    "df = pd.DataFrame(ds)\n",
    "df.head()"
   ]
  },
  {
   "cell_type": "code",
   "execution_count": 17,
   "metadata": {},
   "outputs": [
    {
     "name": "stdout",
     "output_type": "stream",
     "text": [
      "(10238, 11)\n"
     ]
    }
   ],
   "source": [
    "print(df.shape)"
   ]
  },
  {
   "cell_type": "code",
   "execution_count": 18,
   "metadata": {},
   "outputs": [
    {
     "data": {
      "text/plain": [
       "accent\n",
       "                                                                                                                                                                                                                                           9439\n",
       "Fluent swahili                                                                                                                                                                                                                              208\n",
       "native                                                                                                                                                                                                                                       97\n",
       "Fluent,Fluent swahili                                                                                                                                                                                                                        85\n",
       "Fluent accent                                                                                                                                                                                                                                82\n",
       "Fluent Kiswahili                                                                                                                                                                                                                             69\n",
       "Raisi wa Kenya alitoa hutoba yake juma tatu iliyopita                                                                                                                                                                                        45\n",
       "kiswahili cha mkoa wa pwani                                                                                                                                                                                                                  42\n",
       "Kenyan                                                                                                                                                                                                                                       30\n",
       "Eloquent and fluent.                                                                                                                                                                                                                         30\n",
       "Fluent in Swahili                                                                                                                                                                                                                            29\n",
       "fluent in kiswahili                                                                                                                                                                                                                          28\n",
       "Lafudhi yangu ni kiswahili cha kawaida ambacho watanzania wengi wanakizungumza. Ni pamoja na kile ambacho kinafundishwa katika shule za msingi na sekondari ili kuleta maana katika mambo mbalimbali na namna ya kuzungumza kwa ujumla.      15\n",
       "Shaped by where i have lived                                                                                                                                                                                                                 11\n",
       "Typical Kenyan Accent                                                                                                                                                                                                                         9\n",
       "Kiswahili                                                                                                                                                                                                                                     5\n",
       "Strong kiswahili accent                                                                                                                                                                                                                       5\n",
       "Fluent,Mvita                                                                                                                                                                                                                                  4\n",
       "swahili accent,coastal swahili accent                                                                                                                                                                                                         3\n",
       "Good                                                                                                                                                                                                                                          2\n",
       "Name: count, dtype: int64"
      ]
     },
     "execution_count": 18,
     "metadata": {},
     "output_type": "execute_result"
    }
   ],
   "source": [
    "df['accent'].value_counts()"
   ]
  },
  {
   "cell_type": "code",
   "execution_count": 22,
   "metadata": {},
   "outputs": [
    {
     "data": {
      "text/plain": [
       "age\n",
       "twenties    5579\n",
       "            3461\n",
       "thirties     700\n",
       "fourties     293\n",
       "teens        121\n",
       "fifties       84\n",
       "Name: count, dtype: int64"
      ]
     },
     "execution_count": 22,
     "metadata": {},
     "output_type": "execute_result"
    }
   ],
   "source": [
    "df['age'].value_counts()"
   ]
  },
  {
   "cell_type": "code",
   "execution_count": 23,
   "metadata": {},
   "outputs": [],
   "source": [
    "df = df.drop(columns=['audio', 'locale', 'segment', 'client_id', 'locale'])"
   ]
  },
  {
   "cell_type": "code",
   "execution_count": 24,
   "metadata": {},
   "outputs": [
    {
     "data": {
      "text/plain": [
       "Index(['path', 'sentence', 'up_votes', 'down_votes', 'age', 'gender',\n",
       "       'accent'],\n",
       "      dtype='object')"
      ]
     },
     "execution_count": 24,
     "metadata": {},
     "output_type": "execute_result"
    }
   ],
   "source": [
    "df.columns"
   ]
  },
  {
   "cell_type": "code",
   "execution_count": 25,
   "metadata": {},
   "outputs": [],
   "source": [
    "df.to_csv('mozilla_mp3files.csv', index=False)"
   ]
  },
  {
   "cell_type": "markdown",
   "metadata": {},
   "source": [
    "-----\n",
    "\n",
    "### Sampling"
   ]
  },
  {
   "cell_type": "code",
   "execution_count": 28,
   "metadata": {},
   "outputs": [],
   "source": [
    "import ipywidgets as widgets\n",
    "from IPython.display import display, Audio\n",
    "import random"
   ]
  },
  {
   "cell_type": "code",
   "execution_count": 29,
   "metadata": {},
   "outputs": [],
   "source": [
    "def play_audio(file_path):\n",
    "    audio_widget = Audio(file_path)\n",
    "    display(audio_widget)"
   ]
  },
  {
   "cell_type": "code",
   "execution_count": 34,
   "metadata": {},
   "outputs": [],
   "source": [
    "def sample():\n",
    "    sample_index = random.randint(0, 10237)\n",
    "    print('Text: ' + df['sentence'].iloc[sample_index])\n",
    "    print('Age: ' + df['age'].iloc[sample_index])\n",
    "    print('Gender: ' + df['gender'].iloc[sample_index])\n",
    "    play_audio(df['path'].iloc[sample_index])\n",
    "    "
   ]
  },
  {
   "cell_type": "code",
   "execution_count": 35,
   "metadata": {},
   "outputs": [
    {
     "name": "stdout",
     "output_type": "stream",
     "text": [
      "Text: Wakati mwingine kama fedha kwa ajili ya kununua na kuuza bidhaa\n",
      "Age: twenties\n",
      "Gender: female\n"
     ]
    },
    {
     "data": {
      "text/html": [
       "\n",
       "                <audio  controls=\"controls\" >\n",
       "                    <source src=\"data:audio/mpeg;base64,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\" type=\"audio/mpeg\" />\n",
       "                    Your browser does not support the audio element.\n",
       "                </audio>\n",
       "              "
      ],
      "text/plain": [
       "<IPython.lib.display.Audio object>"
      ]
     },
     "metadata": {},
     "output_type": "display_data"
    }
   ],
   "source": [
    "sample()"
   ]
  },
  {
   "cell_type": "markdown",
   "metadata": {},
   "source": [
    "----\n",
    "\n",
    "### Evaluation"
   ]
  },
  {
   "cell_type": "code",
   "execution_count": null,
   "metadata": {},
   "outputs": [],
   "source": []
  },
  {
   "cell_type": "code",
   "execution_count": null,
   "metadata": {},
   "outputs": [],
   "source": []
  }
 ],
 "metadata": {
  "kernelspec": {
   "display_name": "audio",
   "language": "python",
   "name": "python3"
  },
  "language_info": {
   "codemirror_mode": {
    "name": "ipython",
    "version": 3
   },
   "file_extension": ".py",
   "mimetype": "text/x-python",
   "name": "python",
   "nbconvert_exporter": "python",
   "pygments_lexer": "ipython3",
   "version": "3.9.19"
  }
 },
 "nbformat": 4,
 "nbformat_minor": 2
}
