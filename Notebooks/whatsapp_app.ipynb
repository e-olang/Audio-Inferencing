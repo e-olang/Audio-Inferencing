{
 "cells": [
  {
   "cell_type": "code",
   "execution_count": 1,
   "metadata": {},
   "outputs": [],
   "source": [
    "import flask\n",
    "from flask import request\n",
    "import tempfile\n",
    "import requests\n",
    "import whisper\n",
    "import os\n",
    "from twilio.rest import Client\n",
    "from dotenv import load_dotenv"
   ]
  },
  {
   "cell_type": "code",
   "execution_count": 2,
   "metadata": {},
   "outputs": [],
   "source": [
    "account_sid = 'AC3af69dd7bb05709d20c9e1f464c3963c'\n",
    "auth_token = '247027c60ac66f6383c3b7f4ceb1f5cf'\n",
    "client = Client(account_sid, auth_token)"
   ]
  },
  {
   "cell_type": "code",
   "execution_count": 8,
   "metadata": {},
   "outputs": [
    {
     "name": "stdout",
     "output_type": "stream",
     "text": [
      "SM3a548272e5f34795e1fa0be14ff4c13a\n"
     ]
    }
   ],
   "source": [
    "message = client.messages.create(\n",
    "    from_='whatsapp:+14155238886',\n",
    "    body='Your appointment is coming up on July 21 at 3PM',\n",
    "    to='whatsapp:+254747929113'\n",
    ")\n",
    "\n",
    "print(message.sid)"
   ]
  },
  {
   "cell_type": "code",
   "execution_count": 4,
   "metadata": {},
   "outputs": [],
   "source": [
    "client = Client(account_sid, auth_token)\n",
    "app = flask.Flask(__name__)"
   ]
  },
  {
   "cell_type": "code",
   "execution_count": 6,
   "metadata": {},
   "outputs": [],
   "source": [
    "from audio_inference import audiototext, texttoaudio\n",
    "\n",
    "def transcribe(audio_url):\n",
    "    response = requests.get(audio_url)\n",
    "    with tempfile.TemporaryDirectory() as temp_dir:\n",
    "        audio_file_path = f\"{temp_dir}/audio.tmp\"\n",
    "        with open(audio_file_path, \"wb\") as audio_file:\n",
    "            audio_file.write(response.content)\n",
    "        result = audiototext(audio_file_path)\n",
    "    return result"
   ]
  },
  {
   "cell_type": "code",
   "execution_count": 9,
   "metadata": {},
   "outputs": [],
   "source": [
    "def send_message(senderId, message):\n",
    "    \"\"\"Send a message to the specified phone number.\n",
    "\n",
    "    Args:\n",
    "        senderId (str): Phone number to send the message to.\n",
    "        message (str): Message to send.\n",
    "\n",
    "    Returns:\n",
    "        twilio.rest.Message: Result of the message creation request.\n",
    "    \"\"\"\n",
    "    res = client.messages.create(body=message, from_ = 'whatsapp:+14155238886', to=f\"whatsapp:+{senderId}\")\n",
    "    return res"
   ]
  },
  {
   "cell_type": "code",
   "execution_count": 10,
   "metadata": {},
   "outputs": [],
   "source": [
    "@app.route(\"/\")\n",
    "@app.route(\"/home\")\n",
    "def home():\n",
    "    return \"Hello Bot\""
   ]
  },
  {
   "cell_type": "code",
   "execution_count": 11,
   "metadata": {},
   "outputs": [],
   "source": [
    "@app.route(\"/whatsapp\", methods=[\"GET\", \"POST\"])\n",
    "def whatsapp():\n",
    "    \"\"\"Endpoint for handling incoming WhatsApp messages.\"\"\"\n",
    "\n",
    "    senderId = request.form[\"From\"].split(\"+\")[1]\n",
    "    mediaUrl = request.form[\"MediaUrl0\"]\n",
    "\n",
    "    try:\n",
    "        response_message = transcribe(mediaUrl)\n",
    "        send_message(senderId=senderId, message=response_message)\n",
    "    except Exception as e:\n",
    "        print(e)\n",
    "    return \"200\""
   ]
  },
  {
   "cell_type": "code",
   "execution_count": null,
   "metadata": {},
   "outputs": [],
   "source": [
    "if __name__ == \"__main__\":\n",
    "    app.run(port=5000, debug=True)"
   ]
  }
 ],
 "metadata": {
  "kernelspec": {
   "display_name": "jc",
   "language": "python",
   "name": "python3"
  },
  "language_info": {
   "codemirror_mode": {
    "name": "ipython",
    "version": 3
   },
   "file_extension": ".py",
   "mimetype": "text/x-python",
   "name": "python",
   "nbconvert_exporter": "python",
   "pygments_lexer": "ipython3",
   "version": "3.9.19"
  }
 },
 "nbformat": 4,
 "nbformat_minor": 2
}
