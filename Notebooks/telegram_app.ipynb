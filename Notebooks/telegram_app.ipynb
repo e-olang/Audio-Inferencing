{
 "cells": [
  {
   "cell_type": "code",
   "execution_count": 1,
   "metadata": {},
   "outputs": [
    {
     "data": {
      "text/plain": [
       "'7443628380:AAEM_YaW56EBoVrr5eum_Vp68OH0yknuhGI'"
      ]
     },
     "execution_count": 1,
     "metadata": {},
     "output_type": "execute_result"
    }
   ],
   "source": [
    "import os\n",
    "from dotenv import load_dotenv\n",
    "\n",
    "load_dotenv()\n",
    "telegram = os.getenv('TELEGRAM')\n",
    "telegram"
   ]
  },
  {
   "cell_type": "code",
   "execution_count": 2,
   "metadata": {},
   "outputs": [],
   "source": [
    "from telegram import Update\n",
    "from telegram.ext import Updater, CallbackContext, MessageHandler, Filters"
   ]
  },
  {
   "cell_type": "code",
   "execution_count": 3,
   "metadata": {},
   "outputs": [],
   "source": [
    "def get_voice(update: Update, context: CallbackContext) -> None:\n",
    "    new_file = context.bot.get_file(update.message.voice.file_id)\n",
    "    new_file.download(\"voice_note.ogg\")\n",
    "    update.message.reply_text('Voice note saved')"
   ]
  },
  {
   "cell_type": "code",
   "execution_count": 7,
   "metadata": {},
   "outputs": [
    {
     "name": "stderr",
     "output_type": "stream",
     "text": [
      "/opt/miniconda3/envs/jc/lib/python3.9/site-packages/pydub/utils.py:170: RuntimeWarning: Couldn't find ffmpeg or avconv - defaulting to ffmpeg, but may not work\n",
      "  warn(\"Couldn't find ffmpeg or avconv - defaulting to ffmpeg, but may not work\", RuntimeWarning)\n"
     ]
    }
   ],
   "source": [
    "import pydub\n",
    "\n",
    "def get_voice(update: Update, context: CallbackContext) -> None:\n",
    "    new_file = context.bot.get_file(update.message.voice.file_id)\n",
    "    ogg_file = new_file.download(\"voice_note.ogg\")\n",
    "    sound = pydub.AudioSegment.from_ogg(ogg_file)\n",
    "    sound.export(\"voice_note.wav\", format=\"wav\")\n",
    "    update.message.reply_text('Voice note saved as WAV file')"
   ]
  },
  {
   "cell_type": "code",
   "execution_count": 8,
   "metadata": {},
   "outputs": [
    {
     "name": "stderr",
     "output_type": "stream",
     "text": [
      "No error handlers are registered, logging exception.\n",
      "Traceback (most recent call last):\n",
      "  File \"/opt/miniconda3/envs/jc/lib/python3.9/site-packages/telegram/vendor/ptb_urllib3/urllib3/response.py\", line 298, in _error_catcher\n",
      "    yield\n",
      "  File \"/opt/miniconda3/envs/jc/lib/python3.9/site-packages/telegram/vendor/ptb_urllib3/urllib3/response.py\", line 376, in read\n",
      "    data = self._fp.read()\n",
      "  File \"/opt/miniconda3/envs/jc/lib/python3.9/http/client.py\", line 476, in read\n",
      "    s = self._safe_read(self.length)\n",
      "  File \"/opt/miniconda3/envs/jc/lib/python3.9/http/client.py\", line 626, in _safe_read\n",
      "    chunk = self.fp.read(min(amt, MAXAMOUNT))\n",
      "  File \"/opt/miniconda3/envs/jc/lib/python3.9/socket.py\", line 704, in readinto\n",
      "    return self._sock.recv_into(b)\n",
      "  File \"/opt/miniconda3/envs/jc/lib/python3.9/ssl.py\", line 1275, in recv_into\n",
      "    return self.read(nbytes, buffer)\n",
      "  File \"/opt/miniconda3/envs/jc/lib/python3.9/ssl.py\", line 1133, in read\n",
      "    return self._sslobj.read(len, buffer)\n",
      "socket.timeout: The read operation timed out\n",
      "\n",
      "During handling of the above exception, another exception occurred:\n",
      "\n",
      "Traceback (most recent call last):\n",
      "  File \"/opt/miniconda3/envs/jc/lib/python3.9/site-packages/telegram/vendor/ptb_urllib3/urllib3/connectionpool.py\", line 629, in urlopen\n",
      "    response = self.ResponseCls.from_httplib(httplib_response,\n",
      "  File \"/opt/miniconda3/envs/jc/lib/python3.9/site-packages/telegram/vendor/ptb_urllib3/urllib3/response.py\", line 456, in from_httplib\n",
      "    resp = ResponseCls(body=r,\n",
      "  File \"/opt/miniconda3/envs/jc/lib/python3.9/site-packages/telegram/vendor/ptb_urllib3/urllib3/response.py\", line 155, in __init__\n",
      "    self._body = self.read(decode_content=decode_content)\n",
      "  File \"/opt/miniconda3/envs/jc/lib/python3.9/site-packages/telegram/vendor/ptb_urllib3/urllib3/response.py\", line 397, in read\n",
      "    raise IncompleteRead(self._fp_bytes_read, self.length_remaining)\n",
      "  File \"/opt/miniconda3/envs/jc/lib/python3.9/contextlib.py\", line 137, in __exit__\n",
      "    self.gen.throw(typ, value, traceback)\n",
      "  File \"/opt/miniconda3/envs/jc/lib/python3.9/site-packages/telegram/vendor/ptb_urllib3/urllib3/response.py\", line 303, in _error_catcher\n",
      "    raise ReadTimeoutError(self._pool, None, 'Read timed out.')\n",
      "telegram.vendor.ptb_urllib3.urllib3.exceptions.ReadTimeoutError: HTTPSConnectionPool(host='api.telegram.org', port=443): Read timed out.\n",
      "\n",
      "During handling of the above exception, another exception occurred:\n",
      "\n",
      "Traceback (most recent call last):\n",
      "  File \"/opt/miniconda3/envs/jc/lib/python3.9/site-packages/telegram/utils/request.py\", line 259, in _request_wrapper\n",
      "    resp = self._con_pool.request(*args, **kwargs)\n",
      "  File \"/opt/miniconda3/envs/jc/lib/python3.9/site-packages/telegram/vendor/ptb_urllib3/urllib3/request.py\", line 64, in request\n",
      "    return self.request_encode_url(method, url, fields=fields,\n",
      "  File \"/opt/miniconda3/envs/jc/lib/python3.9/site-packages/telegram/vendor/ptb_urllib3/urllib3/request.py\", line 87, in request_encode_url\n",
      "    return self.urlopen(method, url, **extra_kw)\n",
      "  File \"/opt/miniconda3/envs/jc/lib/python3.9/site-packages/telegram/vendor/ptb_urllib3/urllib3/poolmanager.py\", line 244, in urlopen\n",
      "    response = conn.urlopen(method, u.request_uri, **kw)\n",
      "  File \"/opt/miniconda3/envs/jc/lib/python3.9/site-packages/telegram/vendor/ptb_urllib3/urllib3/connectionpool.py\", line 691, in urlopen\n",
      "    return self.urlopen(method, url, body, headers, retries,\n",
      "  File \"/opt/miniconda3/envs/jc/lib/python3.9/site-packages/telegram/vendor/ptb_urllib3/urllib3/connectionpool.py\", line 691, in urlopen\n",
      "    return self.urlopen(method, url, body, headers, retries,\n",
      "  File \"/opt/miniconda3/envs/jc/lib/python3.9/site-packages/telegram/vendor/ptb_urllib3/urllib3/connectionpool.py\", line 691, in urlopen\n",
      "    return self.urlopen(method, url, body, headers, retries,\n",
      "  File \"/opt/miniconda3/envs/jc/lib/python3.9/site-packages/telegram/vendor/ptb_urllib3/urllib3/connectionpool.py\", line 665, in urlopen\n",
      "    retries = retries.increment(method, url, error=e, _pool=self,\n",
      "  File \"/opt/miniconda3/envs/jc/lib/python3.9/site-packages/telegram/vendor/ptb_urllib3/urllib3/util/retry.py\", line 376, in increment\n",
      "    raise MaxRetryError(_pool, url, error or ResponseError(cause))\n",
      "telegram.vendor.ptb_urllib3.urllib3.exceptions.MaxRetryError: HTTPSConnectionPool(host='api.telegram.org', port=443): Max retries exceeded with url: /file/bot7443628380%3AAAEM_YaW56EBoVrr5eum_Vp68OH0yknuhGI/voice/file_1.oga (Caused by ReadTimeoutError(\"HTTPSConnectionPool(host='api.telegram.org', port=443): Read timed out.\"))\n",
      "\n",
      "The above exception was the direct cause of the following exception:\n",
      "\n",
      "Traceback (most recent call last):\n",
      "  File \"/opt/miniconda3/envs/jc/lib/python3.9/site-packages/telegram/ext/dispatcher.py\", line 557, in process_update\n",
      "    handler.handle_update(update, self, check, context)\n",
      "  File \"/opt/miniconda3/envs/jc/lib/python3.9/site-packages/telegram/ext/handler.py\", line 199, in handle_update\n",
      "    return self.callback(update, context)\n",
      "  File \"/var/folders/lt/5czg8sps4fq547j7569hq8fr0000gn/T/ipykernel_74331/46236086.py\", line 5, in get_voice\n",
      "    ogg_file = new_file.download(\"voice_note.ogg\")\n",
      "  File \"/opt/miniconda3/envs/jc/lib/python3.9/site-packages/telegram/files/file.py\", line 169, in download\n",
      "    buf = self.bot.request.retrieve(url, timeout=timeout)\n",
      "  File \"/opt/miniconda3/envs/jc/lib/python3.9/site-packages/telegram/utils/request.py\", line 385, in retrieve\n",
      "    return self._request_wrapper('GET', url, **urlopen_kwargs)\n",
      "  File \"/opt/miniconda3/envs/jc/lib/python3.9/site-packages/telegram/utils/request.py\", line 265, in _request_wrapper\n",
      "    raise NetworkError(f'urllib3 HTTPError {error}') from error\n",
      "telegram.error.NetworkError: urllib3 HTTPError HTTPSConnectionPool(host='api.telegram.org', port=443): Max retries exceeded with url: /file/bot7443628380%3AAAEM_YaW56EBoVrr5eum_Vp68OH0yknuhGI/voice/file_1.oga (Caused by ReadTimeoutError(\"HTTPSConnectionPool(host='api.telegram.org', port=443): Read timed out.\"))\n"
     ]
    }
   ],
   "source": [
    "updater = Updater(telegram)\n",
    "\n",
    "updater.dispatcher.add_handler(MessageHandler(Filters.voice , get_voice))\n",
    "\n",
    "updater.start_polling()\n",
    "updater.idle()"
   ]
  }
 ],
 "metadata": {
  "kernelspec": {
   "display_name": "jc",
   "language": "python",
   "name": "python3"
  },
  "language_info": {
   "codemirror_mode": {
    "name": "ipython",
    "version": 3
   },
   "file_extension": ".py",
   "mimetype": "text/x-python",
   "name": "python",
   "nbconvert_exporter": "python",
   "pygments_lexer": "ipython3",
   "version": "3.9.19"
  }
 },
 "nbformat": 4,
 "nbformat_minor": 2
}
